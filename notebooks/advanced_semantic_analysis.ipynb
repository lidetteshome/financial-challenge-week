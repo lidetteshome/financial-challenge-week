{
 "cells": [
  {
   "cell_type": "code",
   "execution_count": 1,
   "id": "17490e55",
   "metadata": {},
   "outputs": [],
   "source": [
    "import pandas as pd\n",
    "from textblob import TextBlob\n",
    "import matplotlib.pyplot as plt\n",
    "import seaborn as sns\n",
    "import os"
   ]
  },
  {
   "cell_type": "code",
   "execution_count": 2,
   "id": "7945172f",
   "metadata": {},
   "outputs": [],
   "source": [
    "# Paths\n",
    "news_path = \"../data/raw_analyst_ratings.csv\"\n",
    "stock_folder = \"./\"\n",
    "plot_dir = \"plots/task3\"\n",
    "out_dir = \"outputs/task3\"\n",
    "os.makedirs(plot_dir, exist_ok=True)\n",
    "os.makedirs(out_dir, exist_ok=True)"
   ]
  },
  {
   "cell_type": "code",
   "execution_count": 3,
   "id": "b7c78631",
   "metadata": {},
   "outputs": [],
   "source": [
    "# Load and clean news data\n",
    "news_df = pd.read_csv(news_path, parse_dates=[\"date\"])\n",
    "news_df['date'] = pd.to_datetime(\n",
    "    news_df['date'], format='mixed', errors='coerce', utc=True)\n",
    "news_df[\"date\"] = news_df[\"date\"].dt.date\n",
    "news_df.dropna(subset=[\"headline\"], inplace=True)\n",
    "\n",
    "\n",
    "def get_sentiment(text):\n",
    "    return TextBlob(str(text)).sentiment.polarity"
   ]
  },
  {
   "cell_type": "code",
   "execution_count": 4,
   "id": "93bda804",
   "metadata": {},
   "outputs": [],
   "source": [
    "# Sentiment polarity\n",
    "news_df[\"sentiment\"] = news_df[\"headline\"].apply(get_sentiment)"
   ]
  },
  {
   "cell_type": "code",
   "execution_count": 5,
   "id": "0e08a97a",
   "metadata": {},
   "outputs": [],
   "source": [
    "# Sentiment classes\n",
    "def classify_sentiment(score):\n",
    "    if score > 0.1:\n",
    "        return \"positive\"\n",
    "    elif score < -0.1:\n",
    "        return \"negative\"\n",
    "    else:\n",
    "        return \"neutral\"\n",
    "\n",
    "\n",
    "news_df[\"sentiment_class\"] = news_df[\"sentiment\"].apply(classify_sentiment)\n",
    "daily_sentiment = news_df.groupby(\"date\")[\"sentiment\"].mean().reset_index()\n",
    "daily_sentiment.columns = [\"date\", \"avg_sentiment\"]"
   ]
  },
  {
   "cell_type": "code",
   "execution_count": 6,
   "id": "e975e360",
   "metadata": {},
   "outputs": [],
   "source": [
    "# Sentiment class distribution\n",
    "class_dist = news_df.groupby(\n",
    "    [\"date\", \"sentiment_class\"]).size().unstack(fill_value=0)\n",
    "class_dist.to_csv(f\"{out_dir}/sentiment_class_distribution.csv\")"
   ]
  },
  {
   "cell_type": "code",
   "execution_count": 7,
   "id": "c917ea15",
   "metadata": {},
   "outputs": [],
   "source": [
    "# Sentiment class distribution\n",
    "class_dist = news_df.groupby(\n",
    "    [\"date\", \"sentiment_class\"]).size().unstack(fill_value=0)\n",
    "class_dist.to_csv(f\"{out_dir}/sentiment_class_distribution.csv\")"
   ]
  },
  {
   "cell_type": "code",
   "execution_count": 13,
   "id": "6f24751e",
   "metadata": {},
   "outputs": [],
   "source": [
    "# Ticker files (update to relative path as needed)\n",
    "ticker_files = {\n",
    "    \"AAPL\": \"../data/AAPL_historical_data.csv\",\n",
    "    \"AMZN\": \"../data/AMZN_historical_data.csv\",\n",
    "    \"GOOG\": \"../data/GOOG_historical_data.csv\",\n",
    "    \"META\": \"../data/META_historical_data.csv\",\n",
    "    \"MSFT\": \"../data/MSFT_historical_data.csv\",\n",
    "    \"NVDA\": \"../data/NVDA_historical_data.csv\",\n",
    "    \"TSLA\": \"../data/TSLA_historical_data.csv\"\n",
    "}\n",
    "\n",
    "# Ensure sentiment dates are datetime64[ns]\n",
    "daily_sentiment[\"date\"] = pd.to_datetime(daily_sentiment[\"date\"])\n",
    "\n",
    "summary = []\n",
    "\n",
    "for ticker, file in ticker_files.items():\n",
    "    df = pd.read_csv(file, parse_dates=[\"Date\"])\n",
    "    df[\"date\"] = pd.to_datetime(df[\"Date\"])  # Ensure datetime64[ns]\n",
    "    df.sort_values(\"date\", inplace=True)\n",
    "    df[\"daily_return\"] = df[\"Close\"].pct_change()\n",
    "\n",
    "    # --- Lagged Correlations ---\n",
    "    lags = [0, 1, 2]\n",
    "    lag_corrs = {}\n",
    "\n",
    "    for lag in lags:\n",
    "        shifted = daily_sentiment.copy()\n",
    "        shifted[\"date\"] = pd.to_datetime(\n",
    "            shifted[\"date\"]) + pd.to_timedelta(lag, unit=\"D\")\n",
    "\n",
    "        merged_lagged = pd.merge(\n",
    "            shifted, df[[\"date\", \"daily_return\"]],\n",
    "            on=\"date\", how=\"inner\"\n",
    "        ).dropna()\n",
    "\n",
    "        corr = merged_lagged[\"avg_sentiment\"].corr(\n",
    "            merged_lagged[\"daily_return\"])\n",
    "        lag_corrs[f\"lag_{lag}\"] = corr\n",
    "\n",
    "    # --- Rolling Correlation ---\n",
    "    merged = pd.merge(\n",
    "        daily_sentiment, df[[\"date\", \"daily_return\"]],\n",
    "        on=\"date\", how=\"inner\"\n",
    "    ).dropna()\n",
    "\n",
    "    merged[\"rolling_corr\"] = merged[\"avg_sentiment\"].rolling(\n",
    "        30).corr(merged[\"daily_return\"])\n",
    "    merged.to_csv(f\"{out_dir}/{ticker}_advanced_correlation.csv\", index=False)\n",
    "\n",
    "    # Plot Rolling Correlation\n",
    "    plt.figure(figsize=(12, 4))\n",
    "    plt.plot(merged[\"date\"], merged[\"rolling_corr\"],\n",
    "             label=\"30-day Rolling Correlation\", color=\"purple\")\n",
    "    plt.axhline(0, linestyle=\"--\", color=\"black\")\n",
    "    plt.title(f\"{ticker} – Rolling Correlation (Sentiment vs. Return)\")\n",
    "    plt.tight_layout()\n",
    "    plt.savefig(f\"{plot_dir}/{ticker}_rolling_corr.png\")\n",
    "    plt.close()\n",
    "\n",
    "    lag_corrs[\"Ticker\"] = ticker\n",
    "    summary.append(lag_corrs)"
   ]
  },
  {
   "cell_type": "code",
   "execution_count": 14,
   "id": "8aa26000",
   "metadata": {},
   "outputs": [],
   "source": [
    "# Save summary\n",
    "lag_summary = pd.DataFrame(summary)\n",
    "lag_summary.to_csv(f\"{out_dir}/lagged_sentiment_correlation.csv\", index=False)"
   ]
  },
  {
   "cell_type": "code",
   "execution_count": 15,
   "id": "ff1d2341",
   "metadata": {},
   "outputs": [
    {
     "name": "stdout",
     "output_type": "stream",
     "text": [
      "🎯 Advanced Task 3 complete with lag, rolling, and sentiment classification.\n"
     ]
    }
   ],
   "source": [
    "# Plot lagged correlations\n",
    "lag_melted = lag_summary.melt(\n",
    "    id_vars=\"Ticker\", var_name=\"Lag\", value_name=\"Correlation\")\n",
    "plt.figure(figsize=(10, 6))\n",
    "sns.barplot(data=lag_melted, x=\"Ticker\",\n",
    "            y=\"Correlation\", hue=\"Lag\", palette=\"Set2\")\n",
    "plt.title(\"Lagged Correlations (Sentiment → Return)\")\n",
    "plt.tight_layout()\n",
    "plt.savefig(f\"{plot_dir}/lagged_correlation_barplot.png\")\n",
    "plt.close()\n",
    "\n",
    "print(\"🎯 Advanced Task 3 complete with lag, rolling, and sentiment classification.\")"
   ]
  },
  {
   "cell_type": "code",
   "execution_count": null,
   "id": "67ef1a2c",
   "metadata": {},
   "outputs": [],
   "source": []
  }
 ],
 "metadata": {
  "kernelspec": {
   "display_name": ".venv",
   "language": "python",
   "name": "python3"
  },
  "language_info": {
   "codemirror_mode": {
    "name": "ipython",
    "version": 3
   },
   "file_extension": ".py",
   "mimetype": "text/x-python",
   "name": "python",
   "nbconvert_exporter": "python",
   "pygments_lexer": "ipython3",
   "version": "3.12.2"
  }
 },
 "nbformat": 4,
 "nbformat_minor": 5
}
