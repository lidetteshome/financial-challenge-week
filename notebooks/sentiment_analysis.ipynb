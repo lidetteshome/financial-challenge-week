{
 "cells": [
  {
   "cell_type": "code",
   "execution_count": 1,
   "id": "eb5a4c7a",
   "metadata": {},
   "outputs": [],
   "source": [
    "import pandas as pd\n",
    "from textblob import TextBlob\n",
    "import os"
   ]
  },
  {
   "cell_type": "code",
   "execution_count": 3,
   "id": "695f5ab5",
   "metadata": {},
   "outputs": [
    {
     "name": "stdout",
     "output_type": "stream",
     "text": [
      "   Unnamed: 0                                           headline  \\\n",
      "0           0            Stocks That Hit 52-Week Highs On Friday   \n",
      "1           1         Stocks That Hit 52-Week Highs On Wednesday   \n",
      "2           2                      71 Biggest Movers From Friday   \n",
      "3           3       46 Stocks Moving In Friday's Mid-Day Session   \n",
      "4           4  B of A Securities Maintains Neutral on Agilent...   \n",
      "\n",
      "                                                 url          publisher  \\\n",
      "0  https://www.benzinga.com/news/20/06/16190091/s...  Benzinga Insights   \n",
      "1  https://www.benzinga.com/news/20/06/16170189/s...  Benzinga Insights   \n",
      "2  https://www.benzinga.com/news/20/05/16103463/7...         Lisa Levin   \n",
      "3  https://www.benzinga.com/news/20/05/16095921/4...         Lisa Levin   \n",
      "4  https://www.benzinga.com/news/20/05/16095304/b...         Vick Meyer   \n",
      "\n",
      "         date stock  \n",
      "0  2020-06-05     A  \n",
      "1  2020-06-03     A  \n",
      "2  2020-05-26     A  \n",
      "3  2020-05-22     A  \n",
      "4  2020-05-22     A  \n"
     ]
    }
   ],
   "source": [
    "# Load News Dataset\n",
    "news_df = pd.read_csv(\"../data/raw_analyst_ratings.csv\", parse_dates=[\"date\"])\n",
    "news_df['date'] = pd.to_datetime(\n",
    "    news_df['date'], format='mixed', errors='coerce', utc=True)\n",
    "news_df['date'] = news_df['date'].dt.date\n",
    "news_df.dropna(subset=[\"headline\"], inplace=True)\n",
    "print(news_df.head())"
   ]
  },
  {
   "cell_type": "code",
   "execution_count": 4,
   "id": "b2d5ab3b",
   "metadata": {},
   "outputs": [],
   "source": [
    "# Sentiment Analysis using TextBlob\n",
    "def get_sentiment(text):\n",
    "    blob = TextBlob(str(text))\n",
    "    return blob.sentiment.polarity\n",
    "\n",
    "\n",
    "news_df[\"sentiment\"] = news_df[\"headline\"].apply(get_sentiment)"
   ]
  },
  {
   "cell_type": "code",
   "execution_count": 5,
   "id": "a7625111",
   "metadata": {},
   "outputs": [
    {
     "name": "stdout",
     "output_type": "stream",
     "text": [
      "   Unnamed: 0                                           headline  \\\n",
      "0           0            Stocks That Hit 52-Week Highs On Friday   \n",
      "1           1         Stocks That Hit 52-Week Highs On Wednesday   \n",
      "2           2                      71 Biggest Movers From Friday   \n",
      "3           3       46 Stocks Moving In Friday's Mid-Day Session   \n",
      "4           4  B of A Securities Maintains Neutral on Agilent...   \n",
      "\n",
      "                                                 url          publisher  \\\n",
      "0  https://www.benzinga.com/news/20/06/16190091/s...  Benzinga Insights   \n",
      "1  https://www.benzinga.com/news/20/06/16170189/s...  Benzinga Insights   \n",
      "2  https://www.benzinga.com/news/20/05/16103463/7...         Lisa Levin   \n",
      "3  https://www.benzinga.com/news/20/05/16095921/4...         Lisa Levin   \n",
      "4  https://www.benzinga.com/news/20/05/16095304/b...         Vick Meyer   \n",
      "\n",
      "         date stock  sentiment  \n",
      "0  2020-06-05     A        0.0  \n",
      "1  2020-06-03     A        0.0  \n",
      "2  2020-05-26     A        0.0  \n",
      "3  2020-05-22     A        0.0  \n",
      "4  2020-05-22     A        0.0  \n"
     ]
    }
   ],
   "source": [
    "print(news_df.head())"
   ]
  },
  {
   "cell_type": "code",
   "execution_count": 8,
   "id": "0ae8f4ba",
   "metadata": {},
   "outputs": [],
   "source": [
    "# Aggregate average sentiment by date\n",
    "daily_sentiment = news_df.groupby(\"date\")[\"sentiment\"].mean().reset_index()\n",
    "daily_sentiment.columns = [\"date\", \"avg_sentiment\"]"
   ]
  },
  {
   "cell_type": "code",
   "execution_count": 9,
   "id": "9918bd86",
   "metadata": {},
   "outputs": [],
   "source": [
    "# List of stock CSVs and tickers\n",
    "ticker_files = {\n",
    "    \"AAPL\": \"../data/AAPL_historical_data.csv\",\n",
    "    \"AMZN\": \"../data/AMZN_historical_data.csv\",\n",
    "    \"GOOG\": \"../data/GOOG_historical_data.csv\",\n",
    "    \"META\": \"../data/META_historical_data.csv\",\n",
    "    \"MSFT\": \"../data/MSFT_historical_data.csv\",\n",
    "    \"NVDA\": \"../data/NVDA_historical_data.csv\",\n",
    "    \"TSLA\": \"../data/TSLA_historical_data.csv\"\n",
    "}"
   ]
  },
  {
   "cell_type": "code",
   "execution_count": 10,
   "id": "6b036a68",
   "metadata": {},
   "outputs": [],
   "source": [
    "# Output directory\n",
    "os.makedirs(\"outputs/task3/\", exist_ok=True)"
   ]
  },
  {
   "cell_type": "code",
   "execution_count": 11,
   "id": "1a641844",
   "metadata": {},
   "outputs": [
    {
     "name": "stdout",
     "output_type": "stream",
     "text": [
      "🔍 Processing AAPL...\n",
      "🔍 Processing AMZN...\n",
      "🔍 Processing GOOG...\n",
      "🔍 Processing META...\n",
      "🔍 Processing MSFT...\n",
      "🔍 Processing NVDA...\n",
      "🔍 Processing TSLA...\n"
     ]
    }
   ],
   "source": [
    "# Loop through tickers and compute correlation\n",
    "results = []\n",
    "\n",
    "for ticker, file in ticker_files.items():\n",
    "    print(f\"🔍 Processing {ticker}...\")\n",
    "\n",
    "    stock_df = pd.read_csv(file, parse_dates=[\"Date\"])\n",
    "    stock_df[\"date\"] = stock_df[\"Date\"].dt.date\n",
    "    stock_df.sort_values(\"date\", inplace=True)\n",
    "    stock_df[\"daily_return\"] = stock_df[\"Close\"].pct_change()\n",
    "\n",
    "    # Merge with sentiment data\n",
    "    merged = pd.merge(daily_sentiment, stock_df[[\n",
    "                      \"date\", \"daily_return\"]], on=\"date\", how=\"inner\").dropna()\n",
    "\n",
    "    if not merged.empty:\n",
    "        corr = merged[\"avg_sentiment\"].corr(\n",
    "            merged[\"daily_return\"], method=\"pearson\")\n",
    "        results.append({\n",
    "            \"Ticker\": ticker,\n",
    "            \"Correlation\": corr,\n",
    "            \"Num_Merged_Records\": len(merged)\n",
    "        })\n",
    "\n",
    "        # Save the merged dataframe\n",
    "        merged.to_csv(\n",
    "            f\"outputs/task3/{ticker}_sentiment_correlation_data.csv\", index=False)"
   ]
  },
  {
   "cell_type": "code",
   "execution_count": 12,
   "id": "8d29f54d",
   "metadata": {},
   "outputs": [
    {
     "name": "stdout",
     "output_type": "stream",
     "text": [
      "\n",
      "✅ Task 3 Complete. Results saved in 'outputs/task3/' folder.\n",
      "  Ticker  Correlation  Num_Merged_Records\n",
      "0   AAPL     0.045453                2757\n",
      "1   AMZN     0.005832                2757\n",
      "2   GOOG     0.017346                2757\n",
      "3   META     0.087696                1886\n",
      "4   MSFT     0.032802                2757\n",
      "5   NVDA    -0.026393                2757\n",
      "6   TSLA     0.049787                2505\n"
     ]
    }
   ],
   "source": [
    "# Save summary\n",
    "summary_df = pd.DataFrame(results)\n",
    "summary_df.to_csv(\n",
    "    \"outputs/task3/sentiment_return_correlation_summary.csv\", index=False)\n",
    "\n",
    "print(\"\\n✅ Task 3 Complete. Results saved in 'outputs/task3/' folder.\")\n",
    "print(summary_df)"
   ]
  },
  {
   "cell_type": "code",
   "execution_count": 1,
   "id": "da3fa1ef",
   "metadata": {},
   "outputs": [
    {
     "data": {
      "image/png": "[encoded data removed]",
      "text/plain": [
       "<Figure size 800x500 with 1 Axes>"
      ]
     },
     "metadata": {},
     "output_type": "display_data"
    }
   ],
   "source": [
    "import pandas as pd\n",
    "import matplotlib.pyplot as plt\n",
    "from textblob import TextBlob\n",
    "\n",
    "# Load your dataset\n",
    "news_df = pd.read_csv(\"../data/raw_analyst_ratings.csv\")\n",
    "\n",
    "# Drop rows with missing headlines and parse date\n",
    "news_df.dropna(subset=[\"headline\"], inplace=True)\n",
    "news_df['date'] = pd.to_datetime(news_df['date'], errors='coerce')\n",
    "\n",
    "# Sentiment classification\n",
    "\n",
    "\n",
    "def classify_sentiment(text):\n",
    "    polarity = TextBlob(text).sentiment.polarity\n",
    "    if polarity > 0.05:\n",
    "        return \"Positive\"\n",
    "    elif polarity < -0.05:\n",
    "        return \"Negative\"\n",
    "    else:\n",
    "        return \"Neutral\"\n",
    "\n",
    "\n",
    "news_df[\"sentiment_class\"] = news_df[\"headline\"].apply(classify_sentiment)\n",
    "\n",
    "# Plot\n",
    "plt.figure(figsize=(8, 5))\n",
    "news_df[\"sentiment_class\"].value_counts().plot(\n",
    "    kind=\"bar\", color=[\"green\", \"grey\", \"red\"]\n",
    ")\n",
    "plt.title(\"Sentiment Class Distribution\")\n",
    "plt.xlabel(\"Sentiment Class\")\n",
    "plt.ylabel(\"Number of Headlines\")\n",
    "plt.xticks(rotation=0)\n",
    "plt.tight_layout()\n",
    "plt.savefig(\"plots/task3/sentiment_class_distribution.png\")\n",
    "plt.show()"
   ]
  }
 ],
 "metadata": {
  "kernelspec": {
   "display_name": ".venv",
   "language": "python",
   "name": "python3"
  },
  "language_info": {
   "codemirror_mode": {
    "name": "ipython",
    "version": 3
   },
   "file_extension": ".py",
   "mimetype": "text/x-python",
   "name": "python",
   "nbconvert_exporter": "python",
   "pygments_lexer": "ipython3",
   "version": "3.12.2"
  }
 },
 "nbformat": 4,
 "nbformat_minor": 5
}
