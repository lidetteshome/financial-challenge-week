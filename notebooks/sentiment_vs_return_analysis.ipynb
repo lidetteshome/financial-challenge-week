{
 "cells": [
  {
   "cell_type": "code",
   "execution_count": 1,
   "id": "640814eb",
   "metadata": {},
   "outputs": [],
   "source": [
    "import pandas as pd\n",
    "from textblob import TextBlob\n",
    "import matplotlib.pyplot as plt\n",
    "import seaborn as sns\n",
    "import os"
   ]
  },
  {
   "cell_type": "code",
   "execution_count": 4,
   "id": "8507a219",
   "metadata": {},
   "outputs": [],
   "source": [
    "# ========== PATHS ==========\n",
    "news_path = \"../data/raw_analyst_ratings.csv\"\n",
    "stock_folder = \"./\"\n",
    "plot_folder = \"plots/task3\"\n",
    "output_folder = \"outputs/task3\"\n",
    "\n",
    "os.makedirs(plot_folder, exist_ok=True)\n",
    "os.makedirs(output_folder, exist_ok=True)"
   ]
  },
  {
   "cell_type": "code",
   "execution_count": 5,
   "id": "025bf850",
   "metadata": {},
   "outputs": [],
   "source": [
    "# ========== SENTIMENT ANALYSIS ==========\n",
    "news_df = pd.read_csv(news_path, parse_dates=[\"date\"])\n",
    "news_df['date'] = pd.to_datetime(\n",
    "    news_df['date'], format='mixed', errors='coerce', utc=True)\n",
    "news_df['date'] = news_df['date'].dt.date\n",
    "news_df.dropna(subset=[\"headline\"], inplace=True)\n",
    "\n",
    "\n",
    "def get_sentiment(text):\n",
    "    return TextBlob(str(text)).sentiment.polarity\n",
    "\n",
    "\n",
    "news_df['sentiment'] = news_df['headline'].apply(get_sentiment)\n",
    "daily_sentiment = news_df.groupby(\"date\")[\"sentiment\"].mean().reset_index()\n",
    "daily_sentiment.columns = [\"date\", \"avg_sentiment\"]"
   ]
  },
  {
   "cell_type": "code",
   "execution_count": 6,
   "id": "aec9b24d",
   "metadata": {},
   "outputs": [],
   "source": [
    "# ========== TICKERS TO PROCESS ==========\n",
    "ticker_files = {\n",
    "    \"AAPL\": \"../data/AAPL_historical_data.csv\",\n",
    "    \"AMZN\": \"../data/AMZN_historical_data.csv\",\n",
    "    \"GOOG\": \"../data/GOOG_historical_data.csv\",\n",
    "    \"META\": \"../data/META_historical_data.csv\",\n",
    "    \"MSFT\": \"../data/MSFT_historical_data.csv\",\n",
    "    \"NVDA\": \"../data/NVDA_historical_data.csv\",\n",
    "    \"TSLA\": \"../data/TSLA_historical_data.csv\"\n",
    "}\n",
    "\n",
    "results = []"
   ]
  },
  {
   "cell_type": "code",
   "execution_count": 7,
   "id": "da9cf869",
   "metadata": {},
   "outputs": [
    {
     "name": "stdout",
     "output_type": "stream",
     "text": [
      "📈 Processing AAPL...\n",
      "📈 Processing AMZN...\n",
      "📈 Processing GOOG...\n",
      "📈 Processing META...\n",
      "📈 Processing MSFT...\n",
      "📈 Processing NVDA...\n",
      "📈 Processing TSLA...\n"
     ]
    }
   ],
   "source": [
    "# ========== PROCESS EACH TICKER ==========\n",
    "for ticker, file in ticker_files.items():\n",
    "    print(f\"📈 Processing {ticker}...\")\n",
    "\n",
    "    df = pd.read_csv(os.path.join(stock_folder, file), parse_dates=[\"Date\"])\n",
    "    df[\"date\"] = df[\"Date\"].dt.date\n",
    "    df.sort_values(\"date\", inplace=True)\n",
    "    df[\"daily_return\"] = df[\"Close\"].pct_change()\n",
    "\n",
    "    # Merge with sentiment\n",
    "    merged = pd.merge(\n",
    "        daily_sentiment, df[[\"date\", \"daily_return\"]], on=\"date\", how=\"inner\").dropna()\n",
    "    merged.to_csv(\n",
    "        f\"{output_folder}/{ticker}_sentiment_vs_return.csv\", index=False)\n",
    "\n",
    "    if not merged.empty:\n",
    "        corr = merged[\"avg_sentiment\"].corr(merged[\"daily_return\"])\n",
    "        results.append({\"Ticker\": ticker, \"Correlation\": corr})\n",
    "\n",
    "        # Plot: Sentiment vs Return\n",
    "        fig, ax1 = plt.subplots(figsize=(12, 5))\n",
    "        ax1.plot(merged[\"date\"], merged[\"daily_return\"],\n",
    "                 color=\"tab:blue\", label=\"Daily Return\")\n",
    "        ax1.set_ylabel(\"Daily Return\", color=\"tab:blue\")\n",
    "        ax1.tick_params(axis='y', labelcolor='tab:blue')\n",
    "\n",
    "        ax2 = ax1.twinx()\n",
    "        ax2.plot(merged[\"date\"], merged[\"avg_sentiment\"],\n",
    "                 color=\"tab:orange\", label=\"Sentiment\", alpha=0.6)\n",
    "        ax2.set_ylabel(\"Avg Sentiment\", color=\"tab:orange\")\n",
    "        ax2.tick_params(axis='y', labelcolor='tab:orange')\n",
    "\n",
    "        plt.title(f\"{ticker} – Sentiment vs Daily Return\")\n",
    "        fig.tight_layout()\n",
    "        plt.savefig(f\"{plot_folder}/{ticker}_sentiment_vs_return.png\")\n",
    "        plt.close()"
   ]
  },
  {
   "cell_type": "code",
   "execution_count": 8,
   "id": "f4e76d3a",
   "metadata": {},
   "outputs": [],
   "source": [
    "# ========== SUMMARY CHART ==========\n",
    "summary_df = pd.DataFrame(results)\n",
    "summary_df.to_csv(\n",
    "    f\"{output_folder}/sentiment_return_correlation_summary.csv\", index=False)"
   ]
  },
  {
   "cell_type": "code",
   "execution_count": 9,
   "id": "6525ddd0",
   "metadata": {},
   "outputs": [
    {
     "name": "stderr",
     "output_type": "stream",
     "text": [
      "/var/folders/cg/vq8tmr4540d4j652btyymbt40000gn/T/ipykernel_71327/641328746.py:3: FutureWarning: \n",
      "\n",
      "Passing `palette` without assigning `hue` is deprecated and will be removed in v0.14.0. Assign the `x` variable to `hue` and set `legend=False` for the same effect.\n",
      "\n",
      "  sns.barplot(data=summary_df, x=\"Ticker\", y=\"Correlation\", palette=\"coolwarm\")\n"
     ]
    },
    {
     "name": "stdout",
     "output_type": "stream",
     "text": [
      "✅ Task 3 completed. Plots saved to 'plots/task3/' and results to 'outputs/task3/'\n"
     ]
    }
   ],
   "source": [
    "# Barplot\n",
    "plt.figure(figsize=(10, 6))\n",
    "sns.barplot(data=summary_df, x=\"Ticker\", y=\"Correlation\", palette=\"coolwarm\")\n",
    "plt.axhline(0, color=\"black\", linestyle=\"--\")\n",
    "plt.title(\"Correlation Between Daily Sentiment & Stock Return\")\n",
    "plt.ylabel(\"Pearson Correlation\")\n",
    "plt.tight_layout()\n",
    "plt.savefig(f\"{plot_folder}/correlation_barplot.png\")\n",
    "plt.close()\n",
    "\n",
    "print(\"✅ Task 3 completed. Plots saved to 'plots/task3/' and results to 'outputs/task3/'\")"
   ]
  },
  {
   "cell_type": "code",
   "execution_count": null,
   "id": "ead0cc3b",
   "metadata": {},
   "outputs": [],
   "source": []
  }
 ],
 "metadata": {
  "kernelspec": {
   "display_name": ".venv",
   "language": "python",
   "name": "python3"
  },
  "language_info": {
   "codemirror_mode": {
    "name": "ipython",
    "version": 3
   },
   "file_extension": ".py",
   "mimetype": "text/x-python",
   "name": "python",
   "nbconvert_exporter": "python",
   "pygments_lexer": "ipython3",
   "version": "3.12.2"
  }
 },
 "nbformat": 4,
 "nbformat_minor": 5
}
